{
 "cells": [
  {
   "cell_type": "code",
   "execution_count": 2,
   "metadata": {},
   "outputs": [
    {
     "ename": "ImportError",
     "evalue": "attempted relative import with no known parent package",
     "output_type": "error",
     "traceback": [
      "\u001b[1;31m---------------------------------------------------------------------------\u001b[0m",
      "\u001b[1;31mImportError\u001b[0m                               Traceback (most recent call last)",
      "\u001b[1;32mc:\\Users\\seand\\OneDrive\\Documents\\University\\Masters\\Thesis\\Spotify-Topic-Segmentation\\text_segmentation\\evaluation\\segmentation_graphs.ipynb Cell 1'\u001b[0m in \u001b[0;36m<cell line: 2>\u001b[1;34m()\u001b[0m\n\u001b[0;32m      <a href='vscode-notebook-cell:/c%3A/Users/seand/OneDrive/Documents/University/Masters/Thesis/Spotify-Topic-Segmentation/text_segmentation/evaluation/segmentation_graphs.ipynb#ch0000000?line=0'>1</a>\u001b[0m \u001b[39mimport\u001b[39;00m \u001b[39msegeval\u001b[39;00m\n\u001b[1;32m----> <a href='vscode-notebook-cell:/c%3A/Users/seand/OneDrive/Documents/University/Masters/Thesis/Spotify-Topic-Segmentation/text_segmentation/evaluation/segmentation_graphs.ipynb#ch0000000?line=1'>2</a>\u001b[0m \u001b[39mfrom\u001b[39;00m \u001b[39m.\u001b[39;00m\u001b[39m.\u001b[39;00m\u001b[39mload_transcripts\u001b[39;00m \u001b[39mimport\u001b[39;00m load_all_transcripts\n\u001b[0;32m      <a href='vscode-notebook-cell:/c%3A/Users/seand/OneDrive/Documents/University/Masters/Thesis/Spotify-Topic-Segmentation/text_segmentation/evaluation/segmentation_graphs.ipynb#ch0000000?line=2'>3</a>\u001b[0m \u001b[39mfrom\u001b[39;00m \u001b[39mload_annotations\u001b[39;00m \u001b[39mimport\u001b[39;00m load_all_annotations\n\u001b[0;32m      <a href='vscode-notebook-cell:/c%3A/Users/seand/OneDrive/Documents/University/Masters/Thesis/Spotify-Topic-Segmentation/text_segmentation/evaluation/segmentation_graphs.ipynb#ch0000000?line=3'>4</a>\u001b[0m \u001b[39mfrom\u001b[39;00m \u001b[39malgorithms\u001b[39;00m \u001b[39mimport\u001b[39;00m TextTiling, TextSplit, Baseline\n",
      "\u001b[1;31mImportError\u001b[0m: attempted relative import with no known parent package"
     ]
    }
   ],
   "source": [
    "import segeval\n",
    "from load_transcripts import load_all_transcripts\n",
    "from load_annotations import load_all_annotations\n",
    "from algorithms import TextTiling, TextSplit, Baseline"
   ]
  },
  {
   "cell_type": "code",
   "execution_count": 2,
   "metadata": {},
   "outputs": [],
   "source": [
    "transcripts_as_strings = load_all_transcripts(path=\"../dataset/transcripts/\", as_string=True)"
   ]
  },
  {
   "cell_type": "code",
   "execution_count": 3,
   "metadata": {},
   "outputs": [],
   "source": [
    "annotations = load_all_annotations(path=f\"../dataset/annotations/\", transcript_path=\"../dataset/transcripts\")"
   ]
  },
  {
   "cell_type": "code",
   "execution_count": 4,
   "metadata": {},
   "outputs": [],
   "source": [
    "wc_sum = 0\n",
    "wc_len = 0\n",
    "\n",
    "for id in annotations:\n",
    "    wc_sum += sum(annotations[id]) \n",
    "    wc_len += len(annotations[id])\n",
    "\n",
    "avg_segment_wc_len = wc_sum / wc_len"
   ]
  },
  {
   "cell_type": "code",
   "execution_count": 5,
   "metadata": {},
   "outputs": [
    {
     "name": "stdout",
     "output_type": "stream",
     "text": [
      "Calculated penalty of [31.110014403486957] given segment length [10]\n"
     ]
    }
   ],
   "source": [
    "baseline_scores_pk = []\n",
    "text_tiling_scores_pk = []\n",
    "text_split_scores_pk = []\n",
    "\n",
    "baseline_segmenter = Baseline(segment_len=avg_segment_wc_len)\n",
    "text_tiling_segmenter = TextTiling(w=30, k=5, policy=0)\n",
    "text_split_segmenter = TextSplit(segment_len=10)\n",
    "\n",
    "for key in transcripts_as_strings.keys():\n",
    "    wc_truth = annotations[key]\n",
    "    transcript = transcripts_as_strings[key]\n",
    "\n",
    "    wc_baseline = baseline_segmenter.segment(transcript)\n",
    "    _, wc_tiling = text_tiling_segmenter.segment(transcript)\n",
    "    _, wc_split = text_split_segmenter.segment(transcript)\n",
    "\n",
    "    baseline_scores_pk.append(segeval.pk(wc_truth, wc_baseline))\n",
    "    text_tiling_scores_pk.append(segeval.pk(wc_truth, wc_tiling))\n",
    "\n",
    "    if sum(wc_truth) != sum(wc_split):\n",
    "        diff = sum(wc_truth) - sum(wc_split)\n",
    "        wc_split[-1] = wc_split[-1] + diff\n",
    "    \n",
    "    text_split_scores_pk.append(segeval.pk(wc_truth, wc_split))\n",
    "    "
   ]
  },
  {
   "cell_type": "code",
   "execution_count": 6,
   "metadata": {},
   "outputs": [
    {
     "name": "stdout",
     "output_type": "stream",
     "text": [
      "Calculated penalty of [32.09859681644457] given segment length [10]\n"
     ]
    }
   ],
   "source": [
    "baseline_scores_wd = []\n",
    "text_tiling_scores_wd = []\n",
    "text_split_scores_wd = []\n",
    "\n",
    "baseline_segmenter = Baseline(segment_len=avg_segment_wc_len)\n",
    "text_tiling_segmenter = TextTiling(w=30, k=5, policy=0)\n",
    "text_split_segmenter = TextSplit(segment_len=10)\n",
    "\n",
    "for key in transcripts_as_strings.keys():\n",
    "    wc_truth = annotations[key]\n",
    "    transcript = transcripts_as_strings[key]\n",
    "\n",
    "    wc_baseline = baseline_segmenter.segment(transcript)\n",
    "    _, wc_tiling = text_tiling_segmenter.segment(transcript)\n",
    "    _, wc_split = text_split_segmenter.segment(transcript)\n",
    "\n",
    "    baseline_scores_wd.append(segeval.window_diff(wc_truth, wc_baseline))\n",
    "    text_tiling_scores_wd.append(segeval.window_diff(wc_truth, wc_tiling))\n",
    "\n",
    "    if sum(wc_truth) != sum(wc_split):\n",
    "        diff = sum(wc_truth) - sum(wc_split)\n",
    "        wc_split[-1] = wc_split[-1] + diff\n",
    "    \n",
    "    text_split_scores_wd.append(segeval.pk(wc_truth, wc_split))"
   ]
  },
  {
   "cell_type": "code",
   "execution_count": 7,
   "metadata": {},
   "outputs": [
    {
     "data": {
      "image/png": "[encoded data removed]",
      "text/plain": [
       "<Figure size 720x360 with 2 Axes>"
      ]
     },
     "metadata": {
      "needs_background": "light"
     },
     "output_type": "display_data"
    }
   ],
   "source": [
    "# Plot the scores\n",
    "import matplotlib.pyplot as plt\n",
    "\n",
    "# Convert scores from decimal to float\n",
    "baseline_scores_pk = [float(x) for x in baseline_scores_pk]\n",
    "text_tiling_scores_pk = [float(x) for x in text_tiling_scores_pk]\n",
    "text_split_scores_pk = [float(x) for x in text_split_scores_pk]\n",
    "\n",
    "baseline_scores_wd = [float(x) for x in baseline_scores_wd]\n",
    "text_tiling_scores_wd = [float(x) for x in text_tiling_scores_wd]\n",
    "text_split_scores_wd = [float(x) for x in text_split_scores_wd]\n",
    "\n",
    "\n",
    "pk_data = [baseline_scores_pk, text_tiling_scores_pk, text_split_scores_pk]\n",
    "wd_data = [baseline_scores_wd, text_tiling_scores_wd, text_split_scores_wd]\n",
    "labels = [\"Baseline\", \"Text Tiling\", \"Text Split\"]\n",
    "\n",
    "fig, (ax1, ax2) = plt.subplots(nrows=1, ncols=2, figsize=(10, 5))\n",
    "\n",
    "bplot1 = ax1.boxplot(pk_data,\n",
    "                     vert=True,  # vertical box alignment\n",
    "                     patch_artist=True,  # fill with color\n",
    "                     labels=labels)  # will be used to label x-ticks\n",
    "ax1.set_title('Pk Scores')\n",
    "\n",
    "# notch shape box plot\n",
    "bplot2 = ax2.boxplot(wd_data,\n",
    "                     vert=True,  # vertical box alignment\n",
    "                     patch_artist=True,  # fill with color\n",
    "                     labels=labels)  # will be used to label x-ticks\n",
    "ax2.set_title('Wd Scores')\n",
    "\n",
    "colors = ['pink', 'lightblue', 'lightgreen']\n",
    "for bplot in (bplot1, bplot2):\n",
    "    for patch, color in zip(bplot['boxes'], colors):\n",
    "        patch.set_facecolor(color)\n",
    "\n",
    "for ax in [ax1, ax2]:\n",
    "    ax.yaxis.grid(True)\n",
    "    ax.set_xlabel('Segmenters')\n",
    "    ax.set_ylabel('Scores')\n",
    "\n",
    "plt.show()\n",
    "\n",
    "\n",
    "# import tikzplotlib\n",
    "\n",
    "# tikzplotlib.save(\"seg-graph.tex\")\n",
    "\n",
    "# import matplotlib as mpl\n",
    "\n",
    "# plt.close()\n",
    "# mpl.rcParams.update(mpl.rcParamsDefault)\n"
   ]
  },
  {
   "cell_type": "code",
   "execution_count": 13,
   "metadata": {},
   "outputs": [],
   "source": [
    "w = [10, 20, 30, 50, 70]\n",
    "avg_segment_lengths = []\n",
    "for w_i in w:\n",
    "    text_tiling_segmenter = TextTiling(w=w_i, k=5, policy=0)\n",
    "    avg_length_w = []\n",
    "    for key in transcripts_as_strings.keys():\n",
    "        transcript = transcripts_as_strings[key]\n",
    "        _, wc_tiling = text_tiling_segmenter.segment(transcript)\n",
    "        avg_wc = sum(wc_tiling) / len(wc_tiling)\n",
    "        avg_length_w.append(avg_wc)\n",
    "    avg_segment_lengths.append(sum(avg_length_w) / len(avg_length_w))"
   ]
  },
  {
   "cell_type": "code",
   "execution_count": 24,
   "metadata": {},
   "outputs": [],
   "source": [
    "# Bar graph of average segment length with avg_segment_wc_len as the baseline\n",
    "w = [10, 20, 30, 40, 50]\n",
    "barlist = plt.bar([0] + w, [avg_segment_wc_len] + avg_segment_lengths, width=7)\n",
    "barlist[0].set_color('gold')\n",
    "barlist[3].set_color('green')\n",
    "plt.xticks(ticks=[0, 10, 20, 30, 40, 50],labels=[\"Annotations\", \"10\", \"20\", \"30\", \"50\", \"70\"])\n",
    "plt.xlabel(\"Window Size\")\n",
    "plt.ylabel(\"Average Segment Length\")\n",
    "plt.title(\"Average Segment Lengths\")\n",
    "# plt.show()\n",
    "\n",
    "import tikzplotlib\n",
    "\n",
    "tikzplotlib.save(\"w-graph.tex\")\n",
    "\n",
    "import matplotlib as mpl\n",
    "\n",
    "plt.close()\n",
    "mpl.rcParams.update(mpl.rcParamsDefault)"
   ]
  },
  {
   "cell_type": "code",
   "execution_count": 25,
   "metadata": {},
   "outputs": [],
   "source": [
    "k = [5, 10, 20, 30]\n",
    "avg_segment_lengths = []\n",
    "for k_i in k:\n",
    "    text_tiling_segmenter = TextTiling(w=30, k=k_i, policy=0)\n",
    "    avg_length_w = []\n",
    "    for key in transcripts_as_strings.keys():\n",
    "        transcript = transcripts_as_strings[key]\n",
    "        _, wc_tiling = text_tiling_segmenter.segment(transcript)\n",
    "        avg_wc = sum(wc_tiling) / len(wc_tiling)\n",
    "        avg_length_w.append(avg_wc)\n",
    "    avg_segment_lengths.append(sum(avg_length_w) / len(avg_length_w))"
   ]
  },
  {
   "cell_type": "code",
   "execution_count": 28,
   "metadata": {},
   "outputs": [],
   "source": [
    "# Bar graph of average segment length with avg_segment_wc_len as the baseline\n",
    "k = [10, 20, 30, 40]\n",
    "barlist = plt.bar([0] + k, [avg_segment_wc_len] + avg_segment_lengths, width=7)\n",
    "barlist[0].set_color('gold')\n",
    "barlist[1].set_color('green')\n",
    "plt.xticks(ticks=[0, 10, 20, 30, 40],labels=[\"Annotations\", \"5\", \"10\", \"20\", \"30\"])\n",
    "plt.xlabel(\"K\")\n",
    "plt.ylabel(\"Average Segment Length\")\n",
    "plt.title(\"Average Segment Lengths\")\n",
    "# plt.show()\n",
    "\n",
    "import tikzplotlib\n",
    "\n",
    "tikzplotlib.save(\"k-graph.tex\")\n",
    "\n",
    "import matplotlib as mpl\n",
    "\n",
    "plt.close()\n",
    "mpl.rcParams.update(mpl.rcParamsDefault)"
   ]
  },
  {
   "cell_type": "code",
   "execution_count": 8,
   "metadata": {},
   "outputs": [
    {
     "name": "stdout",
     "output_type": "stream",
     "text": [
      "Calculated penalty of [0.5030667839797474] given segment length [1]\n",
      "Calculated penalty of [18.234175871930404] given segment length [2]\n",
      "Calculated penalty of [22.082601453366465] given segment length [3]\n",
      "Calculated penalty of [23.39039301154014] given segment length [4]\n",
      "Calculated penalty of [24.64880788682467] given segment length [5]\n",
      "Calculated penalty of [26.147205538264643] given segment length [6]\n",
      "Calculated penalty of [27.52178174489768] given segment length [7]\n",
      "Calculated penalty of [29.213960938735454] given segment length [8]\n",
      "Calculated penalty of [29.900868622524285] given segment length [9]\n",
      "Calculated penalty of [31.110014403486957] given segment length [10]\n",
      "Calculated penalty of [35.05107779596847] given segment length [11]\n",
      "Calculated penalty of [35.29211985188567] given segment length [12]\n",
      "Calculated penalty of [35.712512794773374] given segment length [13]\n",
      "Calculated penalty of [37.11126599050431] given segment length [14]\n",
      "Calculated penalty of [40.003003625044585] given segment length [15]\n"
     ]
    }
   ],
   "source": [
    "segment_len = [1, 2, 3, 4, 5, 6, 7, 8, 9, 10, 11, 12, 13, 14, 15]\n",
    "avg_segment_lengths = []\n",
    "for len_i in segment_len:\n",
    "    text_split_segmenter = TextSplit(segment_len=len_i)\n",
    "    avg_length_w = []\n",
    "    for key in transcripts_as_strings.keys():\n",
    "        transcript = transcripts_as_strings[key]\n",
    "        _, wc_split = text_split_segmenter.segment(transcript)\n",
    "        avg_wc = sum(wc_split) / len(wc_split)\n",
    "        avg_length_w.append(avg_wc)\n",
    "    avg_segment_lengths.append(sum(avg_length_w) / len(avg_length_w))"
   ]
  },
  {
   "cell_type": "code",
   "execution_count": 22,
   "metadata": {},
   "outputs": [],
   "source": [
    "# Bar graph of average segment length with avg_segment_wc_len as the baseline\n",
    "barlist = plt.bar([0] + segment_len, [avg_segment_wc_len] + avg_segment_lengths, width=0.5)\n",
    "barlist[0].set_color('gold')\n",
    "barlist[4].set_color('green')\n",
    "barlist[10].set_color('green')\n",
    "plt.xticks(ticks=[0] + segment_len,labels=[\"A\"] + segment_len)\n",
    "plt.xlabel(\"Segment Length\")\n",
    "plt.ylabel(\"Average Segment Length\")\n",
    "plt.title(\"Average Segment Lengths\")\n",
    "plt.annotate('WD', xy=(4, 75), ha='center', va='bottom')\n",
    "plt.annotate('PK', xy=(10, 155), ha='center', va='bottom')\n",
    "# plt.show()\n",
    "\n",
    "import tikzplotlib\n",
    "\n",
    "tikzplotlib.save(\"textsplit-graph.tex\")\n",
    "\n",
    "import matplotlib as mpl\n",
    "\n",
    "plt.close()\n",
    "mpl.rcParams.update(mpl.rcParamsDefault)"
   ]
  }
 ],
 "metadata": {
  "interpreter": {
   "hash": "991933e55c9ad2a33e133c9a66de8b6c9f625dc5b9c7ac9b8ec31bdc5c541ed9"
  },
  "kernelspec": {
   "display_name": "Python 3.8.12 ('thesisenv')",
   "language": "python",
   "name": "python3"
  },
  "language_info": {
   "codemirror_mode": {
    "name": "ipython",
    "version": 3
   },
   "file_extension": ".py",
   "mimetype": "text/x-python",
   "name": "python",
   "nbconvert_exporter": "python",
   "pygments_lexer": "ipython3",
   "version": "3.8.12"
  },
  "orig_nbformat": 4
 },
 "nbformat": 4,
 "nbformat_minor": 2
}
