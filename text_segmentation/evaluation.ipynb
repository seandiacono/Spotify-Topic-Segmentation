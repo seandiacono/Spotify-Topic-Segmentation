{
 "cells": [
  {
   "cell_type": "code",
   "execution_count": 1,
   "metadata": {},
   "outputs": [],
   "source": [
    "import segeval\n",
    "from load_transcripts import load_all_transcripts\n",
    "from load_annotations import load_all_annotations\n",
    "from algorithms import TextTiling, TextSplit\n"
   ]
  },
  {
   "cell_type": "code",
   "execution_count": 59,
   "metadata": {},
   "outputs": [],
   "source": [
    "episode_id = \"3qBoc9iZ6JYVqIBTlkMga7\""
   ]
  },
  {
   "cell_type": "code",
   "execution_count": 60,
   "metadata": {},
   "outputs": [],
   "source": [
    "transcripts_as_strings = load_all_transcripts(path=\"../dataset/transcripts/\", as_string=True)"
   ]
  },
  {
   "cell_type": "code",
   "execution_count": 61,
   "metadata": {},
   "outputs": [],
   "source": [
    "annotations = load_all_annotations(path=f\"../dataset/annotations/\", transcript_path=\"../dataset/transcripts\")"
   ]
  },
  {
   "cell_type": "code",
   "execution_count": 62,
   "metadata": {},
   "outputs": [],
   "source": [
    "wc_truth = annotations[episode_id]"
   ]
  },
  {
   "cell_type": "code",
   "execution_count": 63,
   "metadata": {},
   "outputs": [
    {
     "name": "stdout",
     "output_type": "stream",
     "text": [
      "Calculated penalty of [35.51253163797287] given segment length [9]\n"
     ]
    }
   ],
   "source": [
    "transcript = transcripts_as_strings[episode_id]\n",
    "#segmenter = TextTiling(w=30)\n",
    "segmenter = TextSplit(segment_len=9)\n",
    "segments_pred, wc_pred = segmenter.segment(transcript)"
   ]
  },
  {
   "cell_type": "code",
   "execution_count": 64,
   "metadata": {},
   "outputs": [
    {
     "name": "stdout",
     "output_type": "stream",
     "text": [
      "Equal size: True\n"
     ]
    }
   ],
   "source": [
    "print(f\"Equal size: {sum(wc_truth) == sum(wc_pred)}\")"
   ]
  },
  {
   "cell_type": "code",
   "execution_count": 65,
   "metadata": {},
   "outputs": [
    {
     "data": {
      "text/plain": [
       "Decimal('0.4299528886684849987602281180')"
      ]
     },
     "execution_count": 65,
     "metadata": {},
     "output_type": "execute_result"
    }
   ],
   "source": [
    "segeval.pk(wc_truth, wc_pred)"
   ]
  }
 ],
 "metadata": {
  "interpreter": {
   "hash": "25d73d564db2c3b54d77d1ecbda904b040e3918feefca6808fcd1766d8bcde3f"
  },
  "kernelspec": {
   "display_name": "Python 3.7.3 64-bit",
   "language": "python",
   "name": "python3"
  },
  "language_info": {
   "codemirror_mode": {
    "name": "ipython",
    "version": 3
   },
   "file_extension": ".py",
   "mimetype": "text/x-python",
   "name": "python",
   "nbconvert_exporter": "python",
   "pygments_lexer": "ipython3",
   "version": "3.10.4"
  },
  "orig_nbformat": 4
 },
 "nbformat": 4,
 "nbformat_minor": 2
}
