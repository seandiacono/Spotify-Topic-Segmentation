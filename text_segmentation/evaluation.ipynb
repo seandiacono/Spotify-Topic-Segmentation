{
 "cells": [
  {
   "cell_type": "code",
   "execution_count": 22,
   "metadata": {},
   "outputs": [],
   "source": [
    "import segeval\n",
    "from load_transcripts import load_all_transcripts\n",
    "from load_annotations import load_all_annotations\n",
    "from algorithms import TextTiling, TextSplit, Baseline\n"
   ]
  },
  {
   "cell_type": "code",
   "execution_count": 53,
   "metadata": {},
   "outputs": [],
   "source": [
    "episode_id = \"0g4S43qvuB4PnOIkxeybiY\""
   ]
  },
  {
   "cell_type": "code",
   "execution_count": 24,
   "metadata": {},
   "outputs": [],
   "source": [
    "transcripts_as_strings = load_all_transcripts(path=\"../dataset/transcripts/\", as_string=True)"
   ]
  },
  {
   "cell_type": "code",
   "execution_count": 25,
   "metadata": {},
   "outputs": [],
   "source": [
    "annotations = load_all_annotations(path=f\"../dataset/annotations/\", transcript_path=\"../dataset/transcripts\")"
   ]
  },
  {
   "cell_type": "code",
   "execution_count": 54,
   "metadata": {},
   "outputs": [],
   "source": [
    "wc_truth = annotations[episode_id]"
   ]
  },
  {
   "cell_type": "code",
   "execution_count": 55,
   "metadata": {},
   "outputs": [],
   "source": [
    "wc_sum = 0\n",
    "wc_len = 0\n",
    "\n",
    "for id in annotations:\n",
    "    wc_sum += sum(annotations[id]) \n",
    "    wc_len += len(annotations[id])\n",
    "\n",
    "avg_segment_wc_len = wc_sum / wc_len"
   ]
  },
  {
   "cell_type": "code",
   "execution_count": 71,
   "metadata": {},
   "outputs": [
    {
     "name": "stdout",
     "output_type": "stream",
     "text": [
      "Calculated penalty of [30.099897411385882] given segment length [10]\n"
     ]
    }
   ],
   "source": [
    "transcript = transcripts_as_strings[episode_id]\n",
    "# segmenter = TextTiling(w=20, k=10, policy=0)\n",
    "segmenter = TextSplit(segment_len=10)\n",
    "segments_pred, wc_pred = segmenter.segment(transcript)"
   ]
  },
  {
   "cell_type": "code",
   "execution_count": 72,
   "metadata": {},
   "outputs": [
    {
     "name": "stdout",
     "output_type": "stream",
     "text": [
      "Equal size: True\n"
     ]
    }
   ],
   "source": [
    "print(f\"Equal size: {sum(wc_truth) == sum(wc_pred)}\")"
   ]
  },
  {
   "cell_type": "code",
   "execution_count": 76,
   "metadata": {},
   "outputs": [
    {
     "data": {
      "text/plain": [
       "Decimal('0.4596045887234561874542348060')"
      ]
     },
     "execution_count": 76,
     "metadata": {},
     "output_type": "execute_result"
    }
   ],
   "source": [
    "segeval.pk(wc_truth, wc_pred)"
   ]
  },
  {
   "cell_type": "code",
   "execution_count": 74,
   "metadata": {},
   "outputs": [
    {
     "name": "stdout",
     "output_type": "stream",
     "text": [
      "22\n",
      "12\n"
     ]
    }
   ],
   "source": [
    "print(len(segments_pred))\n",
    "print(len(wc_truth))"
   ]
  },
  {
   "cell_type": "code",
   "execution_count": 75,
   "metadata": {},
   "outputs": [
    {
     "data": {
      "text/plain": [
       "Decimal('0.4733349717375276480707790612')"
      ]
     },
     "execution_count": 75,
     "metadata": {},
     "output_type": "execute_result"
    }
   ],
   "source": [
    "transcript = transcripts_as_strings[episode_id]\n",
    "segmenter = Baseline(segment_len=avg_segment_wc_len)\n",
    "wc_baseline = segmenter.segment(transcript)\n",
    "segeval.pk(wc_truth, wc_baseline)"
   ]
  }
 ],
 "metadata": {
  "interpreter": {
   "hash": "25d73d564db2c3b54d77d1ecbda904b040e3918feefca6808fcd1766d8bcde3f"
  },
  "kernelspec": {
   "display_name": "Python 3.7.3 64-bit",
   "language": "python",
   "name": "python3"
  },
  "language_info": {
   "codemirror_mode": {
    "name": "ipython",
    "version": 3
   },
   "file_extension": ".py",
   "mimetype": "text/x-python",
   "name": "python",
   "nbconvert_exporter": "python",
   "pygments_lexer": "ipython3",
   "version": "3.8.12"
  },
  "orig_nbformat": 4
 },
 "nbformat": 4,
 "nbformat_minor": 2
}
