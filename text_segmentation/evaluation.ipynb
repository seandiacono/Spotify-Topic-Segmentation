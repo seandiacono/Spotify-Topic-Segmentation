{
 "cells": [
  {
   "cell_type": "code",
   "execution_count": 1,
   "metadata": {},
   "outputs": [],
   "source": [
    "import segeval\n",
    "from load_transcripts import load_all_transcripts\n",
    "from load_annotations import load_all_annotations\n",
    "from algorithms import TextTiling, TextSplit, Baseline\n"
   ]
  },
  {
   "cell_type": "code",
   "execution_count": 2,
   "metadata": {},
   "outputs": [],
   "source": [
    "episode_id = \"3Du1ESxXKflc1S7QPEqQaT\""
   ]
  },
  {
   "cell_type": "code",
   "execution_count": 3,
   "metadata": {},
   "outputs": [],
   "source": [
    "transcripts_as_strings = load_all_transcripts(path=\"../dataset/transcripts/\", as_string=True)"
   ]
  },
  {
   "cell_type": "code",
   "execution_count": 4,
   "metadata": {},
   "outputs": [],
   "source": [
    "annotations = load_all_annotations(path=f\"../dataset/annotations/\", transcript_path=\"../dataset/transcripts\")"
   ]
  },
  {
   "cell_type": "code",
   "execution_count": 80,
   "metadata": {},
   "outputs": [],
   "source": [
    "wc_truth = annotations[episode_id]"
   ]
  },
  {
   "cell_type": "code",
   "execution_count": 6,
   "metadata": {},
   "outputs": [],
   "source": [
    "wc_sum = 0\n",
    "wc_len = 0\n",
    "\n",
    "for id in annotations:\n",
    "    wc_sum += sum(annotations[id]) \n",
    "    wc_len += len(annotations[id])\n",
    "\n",
    "avg_segment_wc_len = wc_sum / wc_len"
   ]
  },
  {
   "cell_type": "code",
   "execution_count": 92,
   "metadata": {},
   "outputs": [
    {
     "name": "stdout",
     "output_type": "stream",
     "text": [
      "Calculated penalty of [29.41817602269998] given segment length [10]\n"
     ]
    }
   ],
   "source": [
    "transcript = transcripts_as_strings[episode_id]\n",
    "#segmenter = TextTiling(w=70, k=40, policy=0)\n",
    "segmenter = TextSplit(segment_len=10)\n",
    "segments_pred, wc_pred = segmenter.segment(transcript)"
   ]
  },
  {
   "cell_type": "code",
   "execution_count": 93,
   "metadata": {},
   "outputs": [
    {
     "name": "stdout",
     "output_type": "stream",
     "text": [
      "Equal size: True\n"
     ]
    }
   ],
   "source": [
    "print(f\"Equal size: {sum(wc_truth) == sum(wc_pred)}\")"
   ]
  },
  {
   "cell_type": "code",
   "execution_count": 94,
   "metadata": {},
   "outputs": [
    {
     "data": {
      "text/plain": [
       "Decimal('0.4373764007910349373764007910')"
      ]
     },
     "execution_count": 94,
     "metadata": {},
     "output_type": "execute_result"
    }
   ],
   "source": [
    "segeval.window_diff(wc_truth, wc_pred)"
   ]
  },
  {
   "cell_type": "code",
   "execution_count": 78,
   "metadata": {},
   "outputs": [
    {
     "data": {
      "text/plain": [
       "Decimal('0.5579349269588313413014608234')"
      ]
     },
     "execution_count": 78,
     "metadata": {},
     "output_type": "execute_result"
    }
   ],
   "source": [
    "transcript = transcripts_as_strings[episode_id]\n",
    "segmenter = Baseline(segment_len=avg_segment_wc_len)\n",
    "wc_baseline = segmenter.segment(transcript)\n",
    "segeval.window_diff(wc_truth, wc_baseline)"
   ]
  }
 ],
 "metadata": {
  "interpreter": {
   "hash": "25d73d564db2c3b54d77d1ecbda904b040e3918feefca6808fcd1766d8bcde3f"
  },
  "kernelspec": {
   "display_name": "Python 3.7.3 64-bit",
   "language": "python",
   "name": "python3"
  },
  "language_info": {
   "codemirror_mode": {
    "name": "ipython",
    "version": 3
   },
   "file_extension": ".py",
   "mimetype": "text/x-python",
   "name": "python",
   "nbconvert_exporter": "python",
   "pygments_lexer": "ipython3",
   "version": "3.10.4"
  },
  "orig_nbformat": 4
 },
 "nbformat": 4,
 "nbformat_minor": 2
}
