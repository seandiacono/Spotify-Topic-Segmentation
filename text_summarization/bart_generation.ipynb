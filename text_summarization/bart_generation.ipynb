{
 "cells": [
  {
   "cell_type": "code",
   "execution_count": 1,
   "metadata": {},
   "outputs": [
    {
     "name": "stderr",
     "output_type": "stream",
     "text": [
      "No model was supplied, defaulted to sshleifer/distilbart-cnn-12-6 (https://huggingface.co/sshleifer/distilbart-cnn-12-6)\n"
     ]
    }
   ],
   "source": [
    "from transformers import pipeline\n",
    "\n",
    "summarizer = pipeline(\"summarization\")"
   ]
  },
  {
   "cell_type": "code",
   "execution_count": 6,
   "metadata": {},
   "outputs": [],
   "source": [
    "# Read test text\n",
    "with open(\"test.txt\", \"r\") as f:\n",
    "    text = f.readlines()\n",
    "    # Delete lines with :\n",
    "    text = [line for line in text if ':' not in line]\n",
    "    # Delete empty lines\n",
    "    text = [line for line in text if line.strip()]\n",
    "    # Join lines\n",
    "    text = \" \".join(text)\n",
    "    # Limit number of words to 1024\n",
    "    text = ' '.join(text.split()[:800])\n"
   ]
  },
  {
   "cell_type": "code",
   "execution_count": 7,
   "metadata": {},
   "outputs": [
    {
     "name": "stdout",
     "output_type": "stream",
     "text": [
      "like yeah so i've flown nine times on the affectionately known as the vomit comet it's the parabolic flight and essentially it does what you'd want a plane never to do it pitches really steeply upwards at 45 degrees that's a picture you yeah yeah that's test rate that's super early in my phd some of just the passive tiles before we even put electronics in we were just testing the magnet polarity and the essentially is it an energy favorable structure to self-assemble on its own so we tweaked a lot of things between are we looking at a couple of them yeah you're looking at a bunch of them there's also almost 32 of them yeah they're clumping they're clumping yeah can you comment on what's the difference between microgravity and and zero gravity yes so there is it's important difference there is no zero gravity there's no nothing there's in the universe there is no such thing as zero gravity so newton's law of gravity tells us that there's always gravity attraction between any two objects so zero g is a shorthand that some of us fall into using or is a little easier to communicate to the public the accurate term is microgravity where you are essentially floating you're weightless but generally in free fall so on the parabolic flights the vomit comet you're in free fall at the end of the parabola and in orbit around the earth when you're floating you're also in free fall so affectionately call vomit comment i'm sure there's a reason why it's called affectionately so so what's it like what's uh your first time to both philosophically spiritually and biologically what's it like it's profound it is unlike anything else you will experience on earth because it is this true feeling of weightlessness with no drag so the closest experience you can think of would be floating in a pool but you move slowly when you float in a pool and your motion is restricted when you're floating it's just you and your body flying like in a dream it takes the littlest amount of energy like a finger tap against the wall of the plane to shoot all the way across the fuselage wow and you can move at full speed like you're you can move your arms exactly your muscles there's no yeah there's no resistance they actually tell you to make a memory when you're on the plane because it's such a fleeting experience for your body that even a few days later you've already forgotten exactly what it felt like it's so foreign to the human experience they kind of that you explicitly tried to really form this into a membrane and then you could do the replay cognitively freeze it yeah save right uh when we have neural link we can replay that um that memory so in terms of how much stress it has on your body is it uh biologically stressful you do feel a 2g pull out right so the cost of getting those micro g parabolas is you then have a 2g pull out and that's hard you have to train for it uh if you move your neck too quickly in that 2g pull out you can strain muscles but i wouldn't say that it's actually a a profound tough thing on the body it's really just an incredibly novel experience and when you're in orbit and you're not having to go through the ups and downs of the parabolic plane there's a real grace and elegance and you see the astronauts learn to operate in this completely new environment what are some interesting differences between the parabolic plane and when you're actually going up in orbit is it that with orbit you can look out and see yeah that blue little planet of ours you can see the blue marble the stunning overview effect which is something i hope to see one day um what's also really different is if you're in orbit for any significant period of time there's going to be a lot more physiological changes to your body than if you just did an afternoon flight on the vomit comet everything from your bones your muscles your eyeballs change shape uh there's a lot of different things that happen for long duration space flight and we still have to as scientists we still have to solve a lot of these interesting challenges to be able to keep humans thriving in microgravity or deep duration space missions deep duration space missions okay let's talk about this um i'm just gonna ask a bunch of dumb questions so approximately how long does it take to travel to mars asking for a friend asking for a friend as\n"
     ]
    }
   ],
   "source": [
    "print(text)"
   ]
  },
  {
   "cell_type": "code",
   "execution_count": 1,
   "metadata": {},
   "outputs": [],
   "source": [
    "import torch\n",
    "from transformers import T5ForConditionalGeneration,T5Tokenizer\n",
    "\n",
    "device = torch.device(\"cuda\" if torch.cuda.is_available() else \"cpu\")\n",
    "\n",
    "model = T5ForConditionalGeneration.from_pretrained(\"Michau/t5-base-en-generate-headline\")\n",
    "tokenizer = T5Tokenizer.from_pretrained(\"Michau/t5-base-en-generate-headline\")\n",
    "model = model.to(device)"
   ]
  },
  {
   "cell_type": "code",
   "execution_count": 8,
   "metadata": {},
   "outputs": [
    {
     "name": "stdout",
     "output_type": "stream",
     "text": [
      "<pad> What's the Difference Between Microgravity and Zero Gravity?</s>\n"
     ]
    }
   ],
   "source": [
    "\n",
    "article = '''\n",
    "Very early yesterday morning, the United States President Donald Trump reported he and his wife First Lady Melania Trump tested positive for COVID-19. Officials said the Trumps' 14-year-old son Barron tested negative as did First Family and Senior Advisors Jared Kushner and Ivanka Trump.\n",
    "Trump took to social media, posting at 12:54 am local time (0454 UTC) on Twitter, \"Tonight, [Melania] and I tested positive for COVID-19. We will begin our quarantine and recovery process immediately. We will get through this TOGETHER!\" Yesterday afternoon Marine One landed on the White House's South Lawn flying Trump to Walter Reed National Military Medical Center (WRNMMC) in Bethesda, Maryland.\n",
    "Reports said both were showing \"mild symptoms\". Senior administration officials were tested as people were informed of the positive test. Senior advisor Hope Hicks had tested positive on Thursday.\n",
    "Presidential physician Sean Conley issued a statement saying Trump has been given zinc, vitamin D, Pepcid and a daily Aspirin. Conley also gave a single dose of the experimental polyclonal antibodies drug from Regeneron Pharmaceuticals.\n",
    "According to official statements, Trump, now operating from the WRNMMC, is to continue performing his duties as president during a 14-day quarantine. In the event of Trump becoming incapacitated, Vice President Mike Pence could take over the duties of president via the 25th Amendment of the US Constitution. The Pence family all tested negative as of yesterday and there were no changes regarding Pence's campaign events.\n",
    "'''\n",
    "\n",
    "text =  \"headline: \" + text\n",
    "\n",
    "max_len = 256\n",
    "\n",
    "encoding = tokenizer.encode_plus(text, return_tensors = \"pt\")\n",
    "input_ids = encoding[\"input_ids\"].to(device)\n",
    "attention_masks = encoding[\"attention_mask\"].to(device)\n",
    "\n",
    "beam_outputs = model.generate(\n",
    "    input_ids = input_ids,\n",
    "    attention_mask = attention_masks,\n",
    "    max_length = 64,\n",
    "    num_beams = 3,\n",
    "    early_stopping = True,\n",
    ")\n",
    "\n",
    "result = tokenizer.decode(beam_outputs[0])\n",
    "print(result)"
   ]
  }
 ],
 "metadata": {
  "interpreter": {
   "hash": "991933e55c9ad2a33e133c9a66de8b6c9f625dc5b9c7ac9b8ec31bdc5c541ed9"
  },
  "kernelspec": {
   "display_name": "Python 3.8.12 ('thesisenv')",
   "language": "python",
   "name": "python3"
  },
  "language_info": {
   "codemirror_mode": {
    "name": "ipython",
    "version": 3
   },
   "file_extension": ".py",
   "mimetype": "text/x-python",
   "name": "python",
   "nbconvert_exporter": "python",
   "pygments_lexer": "ipython3",
   "version": "3.8.12"
  },
  "orig_nbformat": 4
 },
 "nbformat": 4,
 "nbformat_minor": 2
}
